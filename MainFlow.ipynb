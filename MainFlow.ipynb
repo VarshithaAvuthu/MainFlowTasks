{
 "cells": [
  {
   "cell_type": "code",
   "execution_count": 1,
   "id": "9f1114dc-f2ed-408e-9e0a-7e270c1c2ad1",
   "metadata": {},
   "outputs": [
    {
     "name": "stdin",
     "output_type": "stream",
     "text": [
      "Enter first number:  30\n",
      "Enter second number:  60\n"
     ]
    },
    {
     "name": "stdout",
     "output_type": "stream",
     "text": [
      "The sum is: 90\n"
     ]
    }
   ],
   "source": [
    "# MainFlow Task1\n",
    "\"\"\"Task 1.1.The sum of Two Numbers\n",
    "Objective: Write a program to calculate the sum of two numbers.\n",
    "Input: Two integers.\n",
    "Output: Single integer, their sum.\n",
    "Hint: Use the simple addition (+) operator.\"\"\"\n",
    "# Taking input from the user\n",
    "Num1 = int(input(\"Enter first number: \"))\n",
    "Num2= int(input(\"Enter second number: \"))\n",
    "# Adding the numbers\n",
    "sum = Num1 + Num2\n",
    "# Displaying the result\n",
    "print(\"The sum is:\", sum)"
   ]
  },
  {
   "cell_type": "code",
   "execution_count": 2,
   "id": "b7807650-378c-4ef1-ba9a-c622a2c0eb6d",
   "metadata": {},
   "outputs": [
    {
     "name": "stdin",
     "output_type": "stream",
     "text": [
      "Enter a number:  5\n"
     ]
    },
    {
     "name": "stdout",
     "output_type": "stream",
     "text": [
      "Odd\n"
     ]
    }
   ],
   "source": [
    "#MainFlow Task1\n",
    "'''Task 1.2.Odd or Even\n",
    "Objective: Determine whether a number is odd or even.\n",
    "Input: A single integer.\n",
    "Output: \"Odd\" or \"Even\".\n",
    "Hint: Check the remainder when divided by 2 (number%2 for even).'''\n",
    "# Taking input\n",
    "A = int(input(\"Enter a number: \"))\n",
    "# Checking condition\n",
    "if A % 2 == 0:\n",
    "    print(\"Even\")\n",
    "else:\n",
    "    print(\"Odd\")"
   ]
  },
  {
   "cell_type": "code",
   "execution_count": 4,
   "id": "a9677721-ee37-4ba5-81b3-bd95a2476d5f",
   "metadata": {},
   "outputs": [
    {
     "name": "stdin",
     "output_type": "stream",
     "text": [
      "Enter a number:  4\n"
     ]
    },
    {
     "name": "stdout",
     "output_type": "stream",
     "text": [
      "Factorial of 4 is 24\n"
     ]
    }
   ],
   "source": [
    "#MainFlow Task1\n",
    "'''Task 1.3. Factorial Calculation\n",
    "Objective: Compute the factorial of a given number nnn (i.e., n!=nx(n-1)x-x1nl=n \\times (n-1) \\times \\dots \\times 1nl=nx(n-1)x1).\n",
    "Input: A single integer nnn.\n",
    "Output: Integer value of ninin!.\n",
    "Hint: Use a loop or math. factorial library.'''\n",
    "\n",
    "# Taking input\n",
    "B = int(input(\"Enter a number: \"))\n",
    "# Initializing factorial\n",
    "factorial = 1\n",
    "# Loop to calculate factorial\n",
    "for i in range(1, B + 1):\n",
    "    factorial *= i\n",
    "print(f\"Factorial of {B} is\", factorial)\n"
   ]
  },
  {
   "cell_type": "code",
   "execution_count": 5,
   "id": "192249c9-21a3-4d89-bb2b-79fb4cb99a21",
   "metadata": {},
   "outputs": [
    {
     "name": "stdin",
     "output_type": "stream",
     "text": [
      "Enter number of Fibonacci terms:  6\n"
     ]
    },
    {
     "name": "stdout",
     "output_type": "stream",
     "text": [
      "Fibonacci Sequence: [0, 1, 1, 2, 3, 5]\n"
     ]
    }
   ],
   "source": [
    "#MainFlow Task1\n",
    "'''Task 1.4.Fibonacci Sequence\n",
    "Objective: Generate the first nnn numbers in the Fibonacci sequence (e.g., 0, 1, 1, 2, 3, 5,...).\n",
    "Input: Integer nnn.\n",
    "Output: List of nnn Fibonacci numbers.\n",
    "Hint: Use a loop where F(n)=F(n-1)+F(n-2)F(n) = F(n-1) + F(n-2)F(n)=F(n-1)+F(n-2).'''\n",
    "# Taking input\n",
    "n = int(input(\"Enter number of Fibonacci terms: \"))\n",
    "# Initializing first two terms\n",
    "fib_seq = [0, 1]\n",
    "# Generating Fibonacci numbers\n",
    "for i in range(2, n):\n",
    "    fib_seq.append(fib_seq[i-1] + fib_seq[i-2])\n",
    "print(\"Fibonacci Sequence:\", fib_seq[:n])\n"
   ]
  },
  {
   "cell_type": "code",
   "execution_count": 6,
   "id": "600967af-f3f8-47c7-94fa-8e1b06b38c7f",
   "metadata": {},
   "outputs": [
    {
     "name": "stdin",
     "output_type": "stream",
     "text": [
      "Enter a string:  varshitha\n"
     ]
    },
    {
     "name": "stdout",
     "output_type": "stream",
     "text": [
      "Reversed String: ahtihsrav\n"
     ]
    }
   ],
   "source": [
    "#MainFlow Task1\n",
    "''' Task 1.5 Reverse a String\n",
    "Objective: Reverse the characters in a string.\n",
    "Input: A string.\n",
    "Output: The reversed string.\n",
    "Hint: Use slicing ([::-1]) or loop through characters.'''\n",
    "\n",
    "s = input(\"Enter a string: \")\n",
    "print(\"Reversed String:\", s[::-1])\n"
   ]
  },
  {
   "cell_type": "code",
   "execution_count": 7,
   "id": "a8aecf9f-8112-4503-8438-d07552f093bf",
   "metadata": {},
   "outputs": [
    {
     "name": "stdin",
     "output_type": "stream",
     "text": [
      "Enter a string:  varshi\n"
     ]
    },
    {
     "name": "stdout",
     "output_type": "stream",
     "text": [
      "False (Not a Palindrome)\n"
     ]
    }
   ],
   "source": [
    "#Task 1\n",
    "'''Task 1.6. Palindrome Check\n",
    "Objective: Check if a string reads the same backward as forward.\n",
    "Input. A string.\n",
    "Output: True or False.\n",
    "Hint: Compare the string with its reversed version.'''\n",
    "\n",
    "string = input(\"Enter a string: \")\n",
    "# Checking if the string is equal to its reverse\n",
    "if string == string[::-1]:\n",
    "    print(\"True (Palindrome)\")\n",
    "else:\n",
    "    print(\"False (Not a Palindrome)\")"
   ]
  },
  {
   "cell_type": "code",
   "execution_count": 8,
   "id": "c62c7be5-2593-44c9-a5a5-3837b4c23a17",
   "metadata": {},
   "outputs": [
    {
     "name": "stdin",
     "output_type": "stream",
     "text": [
      "Enter a year:  2002\n"
     ]
    },
    {
     "name": "stdout",
     "output_type": "stream",
     "text": [
      "False (Not a Leap Year)\n"
     ]
    }
   ],
   "source": [
    "#Task1\n",
    "'''Task 1.7. Leap Year Check\n",
    "Objective: Determine whether a year is a leap year.\n",
    "Input: An integer year (e.g., 2024).\n",
    "Output: True if leap year, otherwise False.\n",
    "Hint: A year is a leap year if divisible by 4 but not by 100 unless divisible by 400.'''\n",
    "\n",
    "year = int(input(\"Enter a year: \"))\n",
    "# Checking leap year conditions\n",
    "if (year % 4 == 0 and year % 100 != 0) or (year % 400 == 0):\n",
    "    print(\"True (Leap Year)\")\n",
    "else:\n",
    "    print(\"False (Not a Leap Year)\")"
   ]
  },
  {
   "cell_type": "code",
   "execution_count": 2,
   "id": "a7a9701d-54a0-4cc4-9b52-9e6cdf2d9a8e",
   "metadata": {},
   "outputs": [
    {
     "name": "stdin",
     "output_type": "stream",
     "text": [
      "Enter a number:  9\n"
     ]
    },
    {
     "name": "stdout",
     "output_type": "stream",
     "text": [
      "9 is an Armstrong number.\n"
     ]
    }
   ],
   "source": [
    "#Task 1\n",
    "'''Task 1.8. Armstrong Number\n",
    "Objective: Check if a number equals the sum of its digits raised to the power of the number of digits.\n",
    "Input: An integer nnn.\n",
    "Output: True or False.\n",
    "Example: 153 is an Armstrong number because 13+53+33-1531^3+5^3+3^3= 15313+53+33-153'''\n",
    "\n",
    "def is_armstrong(number):\n",
    "    num_str = str(number)  # Convert number to string\n",
    "    num_digits = len(num_str)  # Get number of digits\n",
    "    # Compute sum of digits raised to the power of num_digits\n",
    "    armstrong_sum = sum(int(digit) ** num_digits for digit in num_str)\n",
    "    return armstrong_sum == number\n",
    "# Example usage\n",
    "num = int(input(\"Enter a number: \"))\n",
    "if is_armstrong(num):\n",
    "    print(f\"{num} is an Armstrong number.\")\n",
    "else:\n",
    "    print(f\"{num} is NOT an Armstrong number.\")\n"
   ]
  },
  {
   "cell_type": "code",
   "execution_count": null,
   "id": "45eb7c9e-ab79-4900-b213-a896536843dc",
   "metadata": {},
   "outputs": [],
   "source": []
  }
 ],
 "metadata": {
  "kernelspec": {
   "display_name": "Python 3 (ipykernel)",
   "language": "python",
   "name": "python3"
  },
  "language_info": {
   "codemirror_mode": {
    "name": "ipython",
    "version": 3
   },
   "file_extension": ".py",
   "mimetype": "text/x-python",
   "name": "python",
   "nbconvert_exporter": "python",
   "pygments_lexer": "ipython3",
   "version": "3.11.7"
  }
 },
 "nbformat": 4,
 "nbformat_minor": 5
}
